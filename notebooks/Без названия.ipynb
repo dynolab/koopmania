{
 "cells": [
  {
   "cell_type": "code",
   "execution_count": 1,
   "id": "b7027dfa",
   "metadata": {},
   "outputs": [
    {
     "ename": "ModuleNotFoundError",
     "evalue": "No module named 'src'",
     "output_type": "error",
     "traceback": [
      "\u001b[0;31m---------------------------------------------------------------------------\u001b[0m",
      "\u001b[0;31mModuleNotFoundError\u001b[0m                       Traceback (most recent call last)",
      "\u001b[0;32m/var/folders/6r/tphhr3f17_9gplh9_dcrhzk40000gn/T/ipykernel_8535/475357951.py\u001b[0m in \u001b[0;36m<module>\u001b[0;34m\u001b[0m\n\u001b[0;32m----> 1\u001b[0;31m \u001b[0;32mfrom\u001b[0m \u001b[0msrc\u001b[0m\u001b[0;34m.\u001b[0m\u001b[0mkoopman_probabilistic\u001b[0m \u001b[0;32mimport\u001b[0m \u001b[0mKoopmanProb\u001b[0m\u001b[0;34m\u001b[0m\u001b[0;34m\u001b[0m\u001b[0m\n\u001b[0m\u001b[1;32m      2\u001b[0m \u001b[0;32mfrom\u001b[0m \u001b[0msrc\u001b[0m\u001b[0;34m.\u001b[0m\u001b[0mprob_model_objs\u001b[0m \u001b[0;32mimport\u001b[0m \u001b[0mNormalNLL\u001b[0m\u001b[0;34m,\u001b[0m \u001b[0mMultiNormalNLL\u001b[0m\u001b[0;34m\u001b[0m\u001b[0;34m\u001b[0m\u001b[0m\n\u001b[1;32m      3\u001b[0m \u001b[0;32mfrom\u001b[0m \u001b[0msrc\u001b[0m\u001b[0;34m.\u001b[0m\u001b[0mquasi_periodic_data\u001b[0m \u001b[0;32mimport\u001b[0m \u001b[0mgen_sine\u001b[0m\u001b[0;34m,\u001b[0m \u001b[0mgen_sawtooth\u001b[0m\u001b[0;34m,\u001b[0m \u001b[0mgen_squares\u001b[0m\u001b[0;34m,\u001b[0m \u001b[0mgen_unit_impulse\u001b[0m\u001b[0;34m,\u001b[0m \u001b[0mpreiodic_normal\u001b[0m\u001b[0;34m,\u001b[0m \u001b[0mperiodic_gamma\u001b[0m\u001b[0;34m,\u001b[0m \u001b[0madd_gaus_noise\u001b[0m\u001b[0;34m\u001b[0m\u001b[0;34m\u001b[0m\u001b[0m\n",
      "\u001b[0;31mModuleNotFoundError\u001b[0m: No module named 'src'"
     ]
    }
   ],
   "source": [
    "from src.koopman_probabilistic import KoopmanProb\n",
    "from src.prob_model_objs import NormalNLL, MultiNormalNLL\n",
    "from src.quasi_periodic_data import gen_sine, gen_sawtooth, gen_squares, gen_unit_impulse, preiodic_normal, periodic_gamma, add_gaus_noise"
   ]
  },
  {
   "cell_type": "code",
   "execution_count": null,
   "id": "a0493842",
   "metadata": {},
   "outputs": [],
   "source": []
  }
 ],
 "metadata": {
  "kernelspec": {
   "display_name": "Python 3 (ipykernel)",
   "language": "python",
   "name": "python3"
  },
  "language_info": {
   "codemirror_mode": {
    "name": "ipython",
    "version": 3
   },
   "file_extension": ".py",
   "mimetype": "text/x-python",
   "name": "python",
   "nbconvert_exporter": "python",
   "pygments_lexer": "ipython3",
   "version": "3.9.13"
  }
 },
 "nbformat": 4,
 "nbformat_minor": 5
}
